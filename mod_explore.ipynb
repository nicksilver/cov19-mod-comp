{
 "nbformat": 4,
 "nbformat_minor": 2,
 "metadata": {
  "language_info": {
   "name": "python",
   "codemirror_mode": {
    "name": "ipython",
    "version": 3
   },
   "version": "3.7.3-final"
  },
  "orig_nbformat": 2,
  "file_extension": ".py",
  "mimetype": "text/x-python",
  "name": "python",
  "npconvert_exporter": "python",
  "pygments_lexer": "ipython3",
  "version": 3,
  "kernelspec": {
   "name": "python37364bitvenvvenv7edfe49fd6c0445dab29081f6d2a1ab5",
   "display_name": "Python 3.7.3 64-bit ('venv': venv)"
  }
 },
 "cells": [
  {
   "cell_type": "code",
   "execution_count": 12,
   "metadata": {},
   "outputs": [],
   "source": [
    "import pandas as pd\n",
    "import matplotlib.pyplot as plt"
   ]
  },
  {
   "cell_type": "markdown",
   "metadata": {},
   "source": [
    "# Bring in data"
   ]
  },
  {
   "cell_type": "code",
   "execution_count": 13,
   "metadata": {},
   "outputs": [],
   "source": [
    "ihme_path = 'data/ihme-covid19-04072020/2020_04_05.08.all/Hospitalization_all_locs.csv'\n",
    "ihme = pd.read_csv(ihme_path)"
   ]
  },
  {
   "cell_type": "markdown",
   "metadata": {},
   "source": [
    "# Organize data"
   ]
  },
  {
   "cell_type": "code",
   "execution_count": 34,
   "metadata": {},
   "outputs": [],
   "source": [
    "# IHME\n",
    "ihme_mt = ihme[ihme['location_name'] == 'Montana']\n",
    "ihme_mt.set_index('date', inplace=True)\n",
    "allbed_cols = ['allbed_lower', 'allbed_mean', 'allbed_upper']\n",
    "totdea_cols = ['totdea_lower', 'totdea_mean', 'totdea_upper']\n",
    "deaths_cols = ['deaths_lower', 'deaths_mean', 'deaths_upper']\n",
    "ICUbed_cols = ['ICUbed_lower', 'ICUbed_mean', 'ICUbed_upper']\n",
    "ihme_allbed = ihme_mt[allbed_cols]\n",
    "ihme_totdea = ihme_mt[totdea_cols]\n",
    "ihme_deaths = ihme_mt[deaths_cols]\n",
    "ihme_ICUbed = ihme_mt[ICUbed_cols]"
   ]
  },
  {
   "cell_type": "markdown",
   "metadata": {},
   "source": [
    "# Calculate stats"
   ]
  },
  {
   "cell_type": "code",
   "execution_count": 35,
   "metadata": {},
   "outputs": [],
   "source": [
    "# dop = day of peak\n",
    "ihme_allbed_dop_lower, ihme_allbed_dop_mean, ihme_allbed_dop_upper = ihme_allbed.idxmax()\n",
    "ihme_deaths_dop_lower, ihme_deaths_dop_mean, ihme_deaths_dop_upper = ihme_deaths.idxmax()\n",
    "ihme_ICUbed_dop_lower, ihme_ICUbed_dop_mean, ihme_ICUbed_dop_upper = ihme_ICUbed.idxmax()\n",
    "\n",
    "# max\n",
    "ihme_allbed_max_lower, ihme_allbed_max_mean, ihme_allbed_max_upper = ihme_allbed.max(axis=0)\n",
    "ihme_deaths_max_lower, ihme_deaths_max_mean, ihme_deaths_max_upper = ihme_deaths.max(axis=0)\n",
    "ihme_ICUbed_max_lower, ihme_ICUbed_max_mean, ihme_ICUbed_max_upper = ihme_ICUbed.max(axis=0)\n",
    "\n",
    "\n",
    "\n"
   ]
  },
  {
   "cell_type": "code",
   "execution_count": 36,
   "metadata": {},
   "outputs": [
    {
     "output_type": "execute_result",
     "data": {
      "text/plain": "'2020-03-30'"
     },
     "metadata": {},
     "execution_count": 36
    }
   ],
   "source": []
  },
  {
   "cell_type": "code",
   "execution_count": null,
   "metadata": {},
   "outputs": [],
   "source": []
  }
 ]
}