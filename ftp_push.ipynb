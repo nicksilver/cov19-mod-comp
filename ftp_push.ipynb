{
 "nbformat": 4,
 "nbformat_minor": 2,
 "metadata": {
  "language_info": {
   "name": "python",
   "codemirror_mode": {
    "name": "ipython",
    "version": 3
   },
   "version": "3.7.3-final"
  },
  "orig_nbformat": 2,
  "file_extension": ".py",
  "mimetype": "text/x-python",
  "name": "python",
  "npconvert_exporter": "python",
  "pygments_lexer": "ipython3",
  "version": 3,
  "kernelspec": {
   "name": "python37364bitvenvvenv7edfe49fd6c0445dab29081f6d2a1ab5",
   "display_name": "Python 3.7.3 64-bit ('venv': venv)"
  }
 },
 "cells": [
  {
   "cell_type": "code",
   "execution_count": 10,
   "metadata": {},
   "outputs": [],
   "source": [
    "import paramiko \n",
    "import pandas as pd\n",
    "import json\n",
    "from datetime import datetime\n",
    "from libs.utils import *\n",
    "from libs.fetcher import *"
   ]
  },
  {
   "cell_type": "markdown",
   "metadata": {},
   "source": [
    "## Set constants"
   ]
  },
  {
   "cell_type": "code",
   "execution_count": 11,
   "metadata": {},
   "outputs": [],
   "source": [
    "mod_var = \"ICU\""
   ]
  },
  {
   "cell_type": "markdown",
   "metadata": {},
   "source": [
    "## Download UMCPHR data from SFTP"
   ]
  },
  {
   "cell_type": "code",
   "execution_count": 12,
   "metadata": {},
   "outputs": [],
   "source": [
    "pull_fname = \"mt_region_hosp_icu_vent.csv\"\n",
    "remotepath = \"/celFtpFiles/covid19/modcomp/outgoing/\" + pull_fname\n",
    "localpath = \"data/umcphr/\" + pull_fname\n",
    "ftp_get(remotepath, localpath)"
   ]
  },
  {
   "cell_type": "markdown",
   "metadata": {},
   "source": [
    "## Bring in data from model simulations"
   ]
  },
  {
   "cell_type": "code",
   "execution_count": 13,
   "metadata": {},
   "outputs": [],
   "source": [
    "if mod_var == 'Hospitalizations':\n",
    "    umcphr_fname = 'hospitalizations'\n",
    "    ihme = IhmeData().get_allbed()\n",
    "    can = CanData().get_allbed(scenarios=[1, 3])\n",
    "    chime = ChimeData().get_allbed()\n",
    "    umcphr = UmCphrData().get_allbed()\n",
    "    mod_list = [ihme, can, chime, umcphr]\n",
    "    mod_list = [ihme, can, chime]\n",
    "elif mod_var == 'ICU':\n",
    "    umcphr_fname = 'icu'\n",
    "    ihme = IhmeData().get_icubed()\n",
    "    chime = ChimeData().get_icubed()\n",
    "    umcphr = UmCphrData().get_icubed()\n",
    "    mod_list = [ihme, chime, umcphr]\n",
    "\n",
    "df = pd.DataFrame()\n",
    "for mod in mod_list:\n",
    "    df = df.merge(\n",
    "        mod,\n",
    "        how='outer',\n",
    "        left_index=True,\n",
    "        right_index=True\n",
    "        )\n",
    "\n",
    "df = df.interpolate(method='polynomial', order=3)\n",
    "df.bfill(0, inplace=True)\n",
    "df = df[(df.index >= '2020-03-10') & (df.index <= '2020-07-10')]"
   ]
  },
  {
   "cell_type": "markdown",
   "metadata": {},
   "source": [
    "## Write to csv"
   ]
  },
  {
   "cell_type": "code",
   "execution_count": 14,
   "metadata": {},
   "outputs": [],
   "source": [
    "date = datetime.today().strftime(\"%m%d%Y\") \n",
    "push_fname = 'data/modcom_{}_{}.csv'.format(umcphr_fname, date)\n",
    "df.to_csv(push_fname)"
   ]
  },
  {
   "cell_type": "markdown",
   "metadata": {},
   "source": [
    "## Push to FTP"
   ]
  },
  {
   "cell_type": "code",
   "execution_count": 15,
   "metadata": {},
   "outputs": [],
   "source": [
    "remotepath = \"/celFtpFiles/covid19/modcomp/incoming/\"\n",
    "filesoutdir = \"/home/nick/workspace/cov19-mod-comp/data/\"\n",
    "filenameFTP = push_fname.split(\"/\")[-1]\n",
    "localpath = filesoutdir + filenameFTP\n",
    "ftp_push(localpath, remotepath)\n",
    ""
   ]
  },
  {
   "cell_type": "code",
   "execution_count": null,
   "metadata": {},
   "outputs": [],
   "source": []
  }
 ]
}